{
  "nbformat": 4,
  "nbformat_minor": 0,
  "metadata": {
    "colab": {
      "provenance": [],
      "gpuType": "T4"
    },
    "kernelspec": {
      "name": "python3",
      "display_name": "Python 3"
    },
    "language_info": {
      "name": "python"
    },
    "accelerator": "GPU"
  },
  "cells": [
    {
      "cell_type": "markdown",
      "source": [
        "## Setup"
      ],
      "metadata": {
        "id": "ZF1nkcC6ZJL4"
      }
    },
    {
      "cell_type": "code",
      "execution_count": null,
      "metadata": {
        "id": "Bqo0WQ-aAfNM"
      },
      "outputs": [],
      "source": [
        "!git clone https://github.com/EnricoSimionato/Refined-Speech-to-Text.git"
      ]
    },
    {
      "cell_type": "code",
      "source": [
        "%cd Refined-Speech-to-Text/\n",
        "!pip install -r requirements.txt"
      ],
      "metadata": {
        "id": "d13BJB8bBTjn"
      },
      "execution_count": null,
      "outputs": []
    },
    {
      "cell_type": "code",
      "source": [
        "from google.colab import userdata\n",
        "import os\n",
        "import torch"
      ],
      "metadata": {
        "id": "pmO-pljFZYyE"
      },
      "execution_count": null,
      "outputs": []
    },
    {
      "cell_type": "code",
      "source": [
        "with open(\".env\", \"w\") as f:\n",
        "    f.write(f\"HF_TOKEN={userdata.get('HF_TOKEN')}\")"
      ],
      "metadata": {
        "id": "R6NavMCIIFox"
      },
      "execution_count": null,
      "outputs": []
    },
    {
      "cell_type": "markdown",
      "source": [
        "## Text-to-speech and refinement pipeline"
      ],
      "metadata": {
        "id": "OdJvi_rFZmqX"
      }
    },
    {
      "cell_type": "code",
      "source": [
        "os.environ[\"TORCHDYNAMO_DISABLE\"] = \"1\"\n",
        "torch.set_default_dtype(torch.float16)\n",
        "\n",
        "!python src/main.py"
      ],
      "metadata": {
        "id": "7fBmy8XdAlL4"
      },
      "execution_count": null,
      "outputs": []
    },
    {
      "cell_type": "code",
      "source": [
        "# Testing\n",
        "#!python src/language/refinement.py"
      ],
      "metadata": {
        "id": "EZeFqv_yTpVw"
      },
      "execution_count": null,
      "outputs": []
    },
    {
      "cell_type": "code",
      "source": [],
      "metadata": {
        "id": "sR6P7sHYQ0zo"
      },
      "execution_count": null,
      "outputs": []
    }
  ]
}